{
 "cells": [
  {
   "cell_type": "code",
   "execution_count": 1,
   "metadata": {},
   "outputs": [],
   "source": [
    "import pandas as pd\n",
    "import numpy as np\n",
    "import matplotlib.pyplot as plt\n",
    "import seaborn as sns"
   ]
  },
  {
   "cell_type": "code",
   "execution_count": 2,
   "metadata": {},
   "outputs": [],
   "source": [
    "%matplotlib inline"
   ]
  },
  {
   "cell_type": "markdown",
   "metadata": {},
   "source": [
    "## Feature columns(数据特征的确定)"
   ]
  },
  {
   "cell_type": "code",
   "execution_count": 93,
   "metadata": {},
   "outputs": [],
   "source": [
    "# all feature colmuns \n",
    "column_names = ['age','class_worker', 'det_ind_code', 'det_occ_code', 'education', 'wage_per_hour', 'hs_college',\n",
    "                    'marital_stat', 'major_ind_code', 'major_occ_code', 'race', 'hisp_origin', 'sex', 'union_member',\n",
    "                    'unemp_reason', 'full_or_part_emp', 'capital_gains', 'capital_losses', 'stock_dividends',\n",
    "                    'tax_filer_stat', 'region_prev_res', 'state_prev_res', 'det_hh_fam_stat', 'det_hh_summ',\n",
    "                    'instance_weight', 'mig_chg_msa', 'mig_chg_reg', 'mig_move_reg', 'mig_same', 'mig_prev_sunbelt',\n",
    "                    'num_emp', 'fam_under_18', 'country_father', 'country_mother', 'country_self', 'citizenship',\n",
    "                    'own_or_self', 'vet_question', 'vet_benefits', 'weeks_worked', 'year', 'income_50k']"
   ]
  },
  {
   "cell_type": "code",
   "execution_count": 94,
   "metadata": {},
   "outputs": [],
   "source": [
    "# categorical features\n",
    "categorical_columns = ['class_worker', 'det_ind_code', 'det_occ_code', 'education', 'hs_college', 'major_ind_code',\n",
    "                           'major_occ_code', 'race', 'hisp_origin', 'sex', 'union_member', 'unemp_reason',\n",
    "                           'full_or_part_emp', 'tax_filer_stat', 'region_prev_res', 'state_prev_res', 'det_hh_fam_stat',\n",
    "                           'det_hh_summ', 'mig_chg_msa', 'mig_chg_reg', 'mig_move_reg', 'mig_same', 'mig_prev_sunbelt',\n",
    "                           'fam_under_18', 'country_father', 'country_mother', 'country_self', 'citizenship',\n",
    "                           'vet_question']"
   ]
  },
  {
   "cell_type": "code",
   "execution_count": 95,
   "metadata": {},
   "outputs": [],
   "source": [
    "# label\n",
    "label_columns=['income_50k', 'marital_stat']"
   ]
  },
  {
   "cell_type": "code",
   "execution_count": 96,
   "metadata": {},
   "outputs": [],
   "source": [
    "# numerical features\n",
    "numeric_cols = list(set(column_names) - set(categorical_columns) - set(label_columns))"
   ]
  },
  {
   "cell_type": "code",
   "execution_count": 97,
   "metadata": {},
   "outputs": [],
   "source": [
    "train_path = '../data/census/census-income.data.gz'\n",
    "test_path = '../data/census/census-income.test.gz'"
   ]
  },
  {
   "cell_type": "code",
   "execution_count": 98,
   "metadata": {},
   "outputs": [],
   "source": [
    "train_df = pd.read_csv(\n",
    "        train_path,\n",
    "        delimiter=',',\n",
    "        header=None,\n",
    "        index_col=None,\n",
    "        names=column_names\n",
    "    )"
   ]
  },
  {
   "cell_type": "code",
   "execution_count": 99,
   "metadata": {},
   "outputs": [
    {
     "data": {
      "text/html": [
       "<div>\n",
       "<style scoped>\n",
       "    .dataframe tbody tr th:only-of-type {\n",
       "        vertical-align: middle;\n",
       "    }\n",
       "\n",
       "    .dataframe tbody tr th {\n",
       "        vertical-align: top;\n",
       "    }\n",
       "\n",
       "    .dataframe thead th {\n",
       "        text-align: right;\n",
       "    }\n",
       "</style>\n",
       "<table border=\"1\" class=\"dataframe\">\n",
       "  <thead>\n",
       "    <tr style=\"text-align: right;\">\n",
       "      <th></th>\n",
       "      <th>age</th>\n",
       "      <th>class_worker</th>\n",
       "      <th>det_ind_code</th>\n",
       "      <th>det_occ_code</th>\n",
       "      <th>education</th>\n",
       "      <th>wage_per_hour</th>\n",
       "      <th>hs_college</th>\n",
       "      <th>marital_stat</th>\n",
       "      <th>major_ind_code</th>\n",
       "      <th>major_occ_code</th>\n",
       "      <th>...</th>\n",
       "      <th>country_father</th>\n",
       "      <th>country_mother</th>\n",
       "      <th>country_self</th>\n",
       "      <th>citizenship</th>\n",
       "      <th>own_or_self</th>\n",
       "      <th>vet_question</th>\n",
       "      <th>vet_benefits</th>\n",
       "      <th>weeks_worked</th>\n",
       "      <th>year</th>\n",
       "      <th>income_50k</th>\n",
       "    </tr>\n",
       "  </thead>\n",
       "  <tbody>\n",
       "    <tr>\n",
       "      <th>0</th>\n",
       "      <td>73</td>\n",
       "      <td>Not in universe</td>\n",
       "      <td>0</td>\n",
       "      <td>0</td>\n",
       "      <td>High school graduate</td>\n",
       "      <td>0</td>\n",
       "      <td>Not in universe</td>\n",
       "      <td>Widowed</td>\n",
       "      <td>Not in universe or children</td>\n",
       "      <td>Not in universe</td>\n",
       "      <td>...</td>\n",
       "      <td>United-States</td>\n",
       "      <td>United-States</td>\n",
       "      <td>United-States</td>\n",
       "      <td>Native- Born in the United States</td>\n",
       "      <td>0</td>\n",
       "      <td>Not in universe</td>\n",
       "      <td>2</td>\n",
       "      <td>0</td>\n",
       "      <td>95</td>\n",
       "      <td>- 50000.</td>\n",
       "    </tr>\n",
       "    <tr>\n",
       "      <th>1</th>\n",
       "      <td>58</td>\n",
       "      <td>Self-employed-not incorporated</td>\n",
       "      <td>4</td>\n",
       "      <td>34</td>\n",
       "      <td>Some college but no degree</td>\n",
       "      <td>0</td>\n",
       "      <td>Not in universe</td>\n",
       "      <td>Divorced</td>\n",
       "      <td>Construction</td>\n",
       "      <td>Precision production craft &amp; repair</td>\n",
       "      <td>...</td>\n",
       "      <td>United-States</td>\n",
       "      <td>United-States</td>\n",
       "      <td>United-States</td>\n",
       "      <td>Native- Born in the United States</td>\n",
       "      <td>0</td>\n",
       "      <td>Not in universe</td>\n",
       "      <td>2</td>\n",
       "      <td>52</td>\n",
       "      <td>94</td>\n",
       "      <td>- 50000.</td>\n",
       "    </tr>\n",
       "    <tr>\n",
       "      <th>2</th>\n",
       "      <td>18</td>\n",
       "      <td>Not in universe</td>\n",
       "      <td>0</td>\n",
       "      <td>0</td>\n",
       "      <td>10th grade</td>\n",
       "      <td>0</td>\n",
       "      <td>High school</td>\n",
       "      <td>Never married</td>\n",
       "      <td>Not in universe or children</td>\n",
       "      <td>Not in universe</td>\n",
       "      <td>...</td>\n",
       "      <td>Vietnam</td>\n",
       "      <td>Vietnam</td>\n",
       "      <td>Vietnam</td>\n",
       "      <td>Foreign born- Not a citizen of U S</td>\n",
       "      <td>0</td>\n",
       "      <td>Not in universe</td>\n",
       "      <td>2</td>\n",
       "      <td>0</td>\n",
       "      <td>95</td>\n",
       "      <td>- 50000.</td>\n",
       "    </tr>\n",
       "    <tr>\n",
       "      <th>3</th>\n",
       "      <td>9</td>\n",
       "      <td>Not in universe</td>\n",
       "      <td>0</td>\n",
       "      <td>0</td>\n",
       "      <td>Children</td>\n",
       "      <td>0</td>\n",
       "      <td>Not in universe</td>\n",
       "      <td>Never married</td>\n",
       "      <td>Not in universe or children</td>\n",
       "      <td>Not in universe</td>\n",
       "      <td>...</td>\n",
       "      <td>United-States</td>\n",
       "      <td>United-States</td>\n",
       "      <td>United-States</td>\n",
       "      <td>Native- Born in the United States</td>\n",
       "      <td>0</td>\n",
       "      <td>Not in universe</td>\n",
       "      <td>0</td>\n",
       "      <td>0</td>\n",
       "      <td>94</td>\n",
       "      <td>- 50000.</td>\n",
       "    </tr>\n",
       "    <tr>\n",
       "      <th>4</th>\n",
       "      <td>10</td>\n",
       "      <td>Not in universe</td>\n",
       "      <td>0</td>\n",
       "      <td>0</td>\n",
       "      <td>Children</td>\n",
       "      <td>0</td>\n",
       "      <td>Not in universe</td>\n",
       "      <td>Never married</td>\n",
       "      <td>Not in universe or children</td>\n",
       "      <td>Not in universe</td>\n",
       "      <td>...</td>\n",
       "      <td>United-States</td>\n",
       "      <td>United-States</td>\n",
       "      <td>United-States</td>\n",
       "      <td>Native- Born in the United States</td>\n",
       "      <td>0</td>\n",
       "      <td>Not in universe</td>\n",
       "      <td>0</td>\n",
       "      <td>0</td>\n",
       "      <td>94</td>\n",
       "      <td>- 50000.</td>\n",
       "    </tr>\n",
       "  </tbody>\n",
       "</table>\n",
       "<p>5 rows × 42 columns</p>\n",
       "</div>"
      ],
      "text/plain": [
       "   age                     class_worker  det_ind_code  det_occ_code  \\\n",
       "0   73                  Not in universe             0             0   \n",
       "1   58   Self-employed-not incorporated             4            34   \n",
       "2   18                  Not in universe             0             0   \n",
       "3    9                  Not in universe             0             0   \n",
       "4   10                  Not in universe             0             0   \n",
       "\n",
       "                     education  wage_per_hour        hs_college  \\\n",
       "0         High school graduate              0   Not in universe   \n",
       "1   Some college but no degree              0   Not in universe   \n",
       "2                   10th grade              0       High school   \n",
       "3                     Children              0   Not in universe   \n",
       "4                     Children              0   Not in universe   \n",
       "\n",
       "     marital_stat                major_ind_code  \\\n",
       "0         Widowed   Not in universe or children   \n",
       "1        Divorced                  Construction   \n",
       "2   Never married   Not in universe or children   \n",
       "3   Never married   Not in universe or children   \n",
       "4   Never married   Not in universe or children   \n",
       "\n",
       "                         major_occ_code  ...  country_father  country_mother  \\\n",
       "0                       Not in universe  ...   United-States   United-States   \n",
       "1   Precision production craft & repair  ...   United-States   United-States   \n",
       "2                       Not in universe  ...         Vietnam         Vietnam   \n",
       "3                       Not in universe  ...   United-States   United-States   \n",
       "4                       Not in universe  ...   United-States   United-States   \n",
       "\n",
       "     country_self                           citizenship own_or_self  \\\n",
       "0   United-States     Native- Born in the United States           0   \n",
       "1   United-States     Native- Born in the United States           0   \n",
       "2         Vietnam   Foreign born- Not a citizen of U S            0   \n",
       "3   United-States     Native- Born in the United States           0   \n",
       "4   United-States     Native- Born in the United States           0   \n",
       "\n",
       "       vet_question  vet_benefits  weeks_worked  year income_50k  \n",
       "0   Not in universe             2             0    95   - 50000.  \n",
       "1   Not in universe             2            52    94   - 50000.  \n",
       "2   Not in universe             2             0    95   - 50000.  \n",
       "3   Not in universe             0             0    94   - 50000.  \n",
       "4   Not in universe             0             0    94   - 50000.  \n",
       "\n",
       "[5 rows x 42 columns]"
      ]
     },
     "execution_count": 99,
     "metadata": {},
     "output_type": "execute_result"
    }
   ],
   "source": [
    "train_df.head()"
   ]
  },
  {
   "cell_type": "code",
   "execution_count": 100,
   "metadata": {},
   "outputs": [
    {
     "data": {
      "text/plain": [
       " - 50000.    187141\n",
       " 50000+.      12382\n",
       "Name: income_50k, dtype: int64"
      ]
     },
     "execution_count": 100,
     "metadata": {},
     "output_type": "execute_result"
    }
   ],
   "source": [
    "train_df['income_50k'].value_counts()"
   ]
  },
  {
   "cell_type": "code",
   "execution_count": 101,
   "metadata": {},
   "outputs": [],
   "source": [
    "train_df['label_income'] = (train_df['income_50k'] == ' 50000+.').astype(float)"
   ]
  },
  {
   "cell_type": "code",
   "execution_count": 102,
   "metadata": {},
   "outputs": [
    {
     "data": {
      "text/plain": [
       "0.0    187141\n",
       "1.0     12382\n",
       "Name: label_income, dtype: int64"
      ]
     },
     "execution_count": 102,
     "metadata": {},
     "output_type": "execute_result"
    }
   ],
   "source": [
    "train_df['label_income'].value_counts()"
   ]
  },
  {
   "cell_type": "code",
   "execution_count": 103,
   "metadata": {},
   "outputs": [
    {
     "data": {
      "text/plain": [
       " Not in universe                   100245\n",
       " Private                            72028\n",
       " Self-employed-not incorporated      8445\n",
       " Local government                    7784\n",
       " State government                    4227\n",
       " Self-employed-incorporated          3265\n",
       " Federal government                  2925\n",
       " Never worked                         439\n",
       " Without pay                          165\n",
       "Name: class_worker, dtype: int64"
      ]
     },
     "execution_count": 103,
     "metadata": {},
     "output_type": "execute_result"
    }
   ],
   "source": [
    "train_df.class_worker.value_counts()"
   ]
  },
  {
   "cell_type": "markdown",
   "metadata": {},
   "source": [
    "### Label Encoding"
   ]
  },
  {
   "cell_type": "code",
   "execution_count": 14,
   "metadata": {},
   "outputs": [],
   "source": [
    "from collections import Counter"
   ]
  },
  {
   "cell_type": "code",
   "execution_count": 15,
   "metadata": {},
   "outputs": [],
   "source": [
    "class_worker_dict = Counter(train_df.class_worker)"
   ]
  },
  {
   "cell_type": "code",
   "execution_count": 16,
   "metadata": {},
   "outputs": [
    {
     "data": {
      "text/plain": [
       "Counter({' Not in universe': 100245,\n",
       "         ' Self-employed-not incorporated': 8445,\n",
       "         ' Private': 72028,\n",
       "         ' Local government': 7784,\n",
       "         ' Federal government': 2925,\n",
       "         ' Self-employed-incorporated': 3265,\n",
       "         ' State government': 4227,\n",
       "         ' Never worked': 439,\n",
       "         ' Without pay': 165})"
      ]
     },
     "execution_count": 16,
     "metadata": {},
     "output_type": "execute_result"
    }
   ],
   "source": [
    "class_worker_dict"
   ]
  },
  {
   "cell_type": "code",
   "execution_count": 18,
   "metadata": {},
   "outputs": [],
   "source": [
    "class_worker_order_dict = {cla:i for i,cla in enumerate(class_worker_dict)}"
   ]
  },
  {
   "cell_type": "code",
   "execution_count": 19,
   "metadata": {},
   "outputs": [],
   "source": [
    "train_df['class_worker_label_code'] = train_df.class_worker.apply(lambda x:class_worker_order_dict[x])"
   ]
  },
  {
   "cell_type": "code",
   "execution_count": 20,
   "metadata": {},
   "outputs": [
    {
     "data": {
      "text/plain": [
       "0    100245\n",
       "2     72028\n",
       "1      8445\n",
       "3      7784\n",
       "6      4227\n",
       "5      3265\n",
       "4      2925\n",
       "7       439\n",
       "8       165\n",
       "Name: class_worker_label_code, dtype: int64"
      ]
     },
     "execution_count": 20,
     "metadata": {},
     "output_type": "execute_result"
    }
   ],
   "source": [
    "train_df['class_worker_label_code'].value_counts()"
   ]
  },
  {
   "cell_type": "markdown",
   "metadata": {},
   "source": [
    "### Frequency Encoding"
   ]
  },
  {
   "cell_type": "code",
   "execution_count": 42,
   "metadata": {},
   "outputs": [],
   "source": [
    "train_df['class_worker_frequency_code'] = train_df.class_worker.apply(lambda x:class_worker_dict[x])"
   ]
  },
  {
   "cell_type": "code",
   "execution_count": 43,
   "metadata": {},
   "outputs": [
    {
     "data": {
      "text/plain": [
       "100245    100245\n",
       "72028      72028\n",
       "8445        8445\n",
       "7784        7784\n",
       "4227        4227\n",
       "3265        3265\n",
       "2925        2925\n",
       "439          439\n",
       "165          165\n",
       "Name: class_worker_frequency_code, dtype: int64"
      ]
     },
     "execution_count": 43,
     "metadata": {},
     "output_type": "execute_result"
    }
   ],
   "source": [
    "train_df['class_worker_frequency_code'].value_counts()"
   ]
  },
  {
   "cell_type": "markdown",
   "metadata": {},
   "source": [
    "### OneHot Encoding"
   ]
  },
  {
   "cell_type": "code",
   "execution_count": 21,
   "metadata": {},
   "outputs": [
    {
     "data": {
      "text/plain": [
       "9"
      ]
     },
     "execution_count": 21,
     "metadata": {},
     "output_type": "execute_result"
    }
   ],
   "source": [
    "len(class_worker_order_dict)"
   ]
  },
  {
   "cell_type": "code",
   "execution_count": 22,
   "metadata": {},
   "outputs": [],
   "source": [
    "from sklearn.preprocessing import  OneHotEncoder"
   ]
  },
  {
   "cell_type": "code",
   "execution_count": 23,
   "metadata": {},
   "outputs": [],
   "source": [
    "enc = OneHotEncoder(n_values=9)"
   ]
  },
  {
   "cell_type": "code",
   "execution_count": 29,
   "metadata": {},
   "outputs": [
    {
     "name": "stderr",
     "output_type": "stream",
     "text": [
      "/Library/Python/anaconda3/envs/MRC_QA/lib/python3.6/site-packages/sklearn/preprocessing/_encoders.py:373: DeprecationWarning: Passing 'n_values' is deprecated in version 0.20 and will be removed in 0.22. You can use the 'categories' keyword instead. 'n_values=n' corresponds to 'categories=[range(n)] * n_features'.\n",
      "  warnings.warn(msg, DeprecationWarning)\n"
     ]
    },
    {
     "data": {
      "text/plain": [
       "OneHotEncoder(categorical_features=None, categories=None, drop=None,\n",
       "              dtype=<class 'numpy.float64'>, handle_unknown='error', n_values=9,\n",
       "              sparse=True)"
      ]
     },
     "execution_count": 29,
     "metadata": {},
     "output_type": "execute_result"
    }
   ],
   "source": [
    "enc.fit(train_df[['class_worker_label_code']])"
   ]
  },
  {
   "cell_type": "code",
   "execution_count": 31,
   "metadata": {},
   "outputs": [
    {
     "data": {
      "text/plain": [
       "array([[1., 0., 0., 0., 0., 0., 0., 0., 0.],\n",
       "       [0., 1., 0., 0., 0., 0., 0., 0., 0.],\n",
       "       [1., 0., 0., 0., 0., 0., 0., 0., 0.],\n",
       "       [1., 0., 0., 0., 0., 0., 0., 0., 0.],\n",
       "       [1., 0., 0., 0., 0., 0., 0., 0., 0.],\n",
       "       [0., 0., 1., 0., 0., 0., 0., 0., 0.],\n",
       "       [0., 0., 1., 0., 0., 0., 0., 0., 0.],\n",
       "       [0., 0., 1., 0., 0., 0., 0., 0., 0.],\n",
       "       [0., 0., 0., 1., 0., 0., 0., 0., 0.],\n",
       "       [0., 0., 1., 0., 0., 0., 0., 0., 0.]])"
      ]
     },
     "execution_count": 31,
     "metadata": {},
     "output_type": "execute_result"
    }
   ],
   "source": [
    "enc.transform(train_df[['class_worker_label_code']]).toarray()[:10]"
   ]
  },
  {
   "cell_type": "markdown",
   "metadata": {},
   "source": [
    "### Target Encoding "
   ]
  },
  {
   "cell_type": "code",
   "execution_count": 112,
   "metadata": {},
   "outputs": [],
   "source": [
    "class_worker_pd =train_df[['class_worker','label_income']].groupby('class_worker').agg({'label_income':'mean'}\n",
    "                                                                     )"
   ]
  },
  {
   "cell_type": "code",
   "execution_count": 113,
   "metadata": {},
   "outputs": [
    {
     "data": {
      "text/html": [
       "<div>\n",
       "<style scoped>\n",
       "    .dataframe tbody tr th:only-of-type {\n",
       "        vertical-align: middle;\n",
       "    }\n",
       "\n",
       "    .dataframe tbody tr th {\n",
       "        vertical-align: top;\n",
       "    }\n",
       "\n",
       "    .dataframe thead th {\n",
       "        text-align: right;\n",
       "    }\n",
       "</style>\n",
       "<table border=\"1\" class=\"dataframe\">\n",
       "  <thead>\n",
       "    <tr style=\"text-align: right;\">\n",
       "      <th></th>\n",
       "      <th>label_income</th>\n",
       "    </tr>\n",
       "    <tr>\n",
       "      <th>class_worker</th>\n",
       "      <th></th>\n",
       "    </tr>\n",
       "  </thead>\n",
       "  <tbody>\n",
       "    <tr>\n",
       "      <th>Federal government</th>\n",
       "      <td>0.204103</td>\n",
       "    </tr>\n",
       "    <tr>\n",
       "      <th>Local government</th>\n",
       "      <td>0.108813</td>\n",
       "    </tr>\n",
       "    <tr>\n",
       "      <th>Never worked</th>\n",
       "      <td>0.004556</td>\n",
       "    </tr>\n",
       "    <tr>\n",
       "      <th>Not in universe</th>\n",
       "      <td>0.009018</td>\n",
       "    </tr>\n",
       "    <tr>\n",
       "      <th>Private</th>\n",
       "      <td>0.101655</td>\n",
       "    </tr>\n",
       "    <tr>\n",
       "      <th>Self-employed-incorporated</th>\n",
       "      <td>0.347320</td>\n",
       "    </tr>\n",
       "    <tr>\n",
       "      <th>Self-employed-not incorporated</th>\n",
       "      <td>0.129070</td>\n",
       "    </tr>\n",
       "    <tr>\n",
       "      <th>State government</th>\n",
       "      <td>0.114739</td>\n",
       "    </tr>\n",
       "    <tr>\n",
       "      <th>Without pay</th>\n",
       "      <td>0.006061</td>\n",
       "    </tr>\n",
       "  </tbody>\n",
       "</table>\n",
       "</div>"
      ],
      "text/plain": [
       "                                 label_income\n",
       "class_worker                                 \n",
       " Federal government                  0.204103\n",
       " Local government                    0.108813\n",
       " Never worked                        0.004556\n",
       " Not in universe                     0.009018\n",
       " Private                             0.101655\n",
       " Self-employed-incorporated          0.347320\n",
       " Self-employed-not incorporated      0.129070\n",
       " State government                    0.114739\n",
       " Without pay                         0.006061"
      ]
     },
     "execution_count": 113,
     "metadata": {},
     "output_type": "execute_result"
    }
   ],
   "source": [
    "class_worker_pd"
   ]
  },
  {
   "cell_type": "code",
   "execution_count": 116,
   "metadata": {},
   "outputs": [],
   "source": [
    "class_worker_ctr = class_worker_pd.label_income.to_dict()"
   ]
  },
  {
   "cell_type": "code",
   "execution_count": 117,
   "metadata": {},
   "outputs": [
    {
     "data": {
      "text/plain": [
       "{' Federal government': 0.2041025641025641,\n",
       " ' Local government': 0.10881294964028777,\n",
       " ' Never worked': 0.004555808656036446,\n",
       " ' Not in universe': 0.009017906129981546,\n",
       " ' Private': 0.10165491197867496,\n",
       " ' Self-employed-incorporated': 0.3473200612557427,\n",
       " ' Self-employed-not incorporated': 0.1290704558910598,\n",
       " ' State government': 0.11473858528507215,\n",
       " ' Without pay': 0.006060606060606061}"
      ]
     },
     "execution_count": 117,
     "metadata": {},
     "output_type": "execute_result"
    }
   ],
   "source": [
    "class_worker_ctr"
   ]
  },
  {
   "cell_type": "code",
   "execution_count": 118,
   "metadata": {},
   "outputs": [],
   "source": [
    "train_df['class_worker_target_code'] = train_df.class_worker.apply(lambda x:class_worker_ctr[x])"
   ]
  },
  {
   "cell_type": "code",
   "execution_count": 119,
   "metadata": {},
   "outputs": [
    {
     "data": {
      "text/plain": [
       "0    0.009018\n",
       "1    0.129070\n",
       "2    0.009018\n",
       "3    0.009018\n",
       "4    0.009018\n",
       "Name: class_worker_target_code, dtype: float64"
      ]
     },
     "execution_count": 119,
     "metadata": {},
     "output_type": "execute_result"
    }
   ],
   "source": [
    "train_df.class_worker_target_code.head()"
   ]
  },
  {
   "cell_type": "code",
   "execution_count": 104,
   "metadata": {},
   "outputs": [],
   "source": [
    "from category_encoders.target_encoder import TargetEncoder"
   ]
  },
  {
   "cell_type": "code",
   "execution_count": 108,
   "metadata": {},
   "outputs": [],
   "source": [
    "train_df['class_worker_target_code2'] = train_df['class_worker']"
   ]
  },
  {
   "cell_type": "code",
   "execution_count": 109,
   "metadata": {},
   "outputs": [
    {
     "name": "stderr",
     "output_type": "stream",
     "text": [
      "/Library/Python/anaconda3/envs/MRC_QA/lib/python3.6/site-packages/category_encoders/target_encoder.py:124: FutureWarning: Default parameter min_samples_leaf will change in version 2.6.See https://github.com/scikit-learn-contrib/category_encoders/issues/327\n",
      "  category=FutureWarning)\n",
      "/Library/Python/anaconda3/envs/MRC_QA/lib/python3.6/site-packages/category_encoders/target_encoder.py:129: FutureWarning: Default parameter smoothing will change in version 2.6.See https://github.com/scikit-learn-contrib/category_encoders/issues/327\n",
      "  category=FutureWarning)\n"
     ]
    }
   ],
   "source": [
    "encoder = TargetEncoder(cols=['class_worker_target_code2'], \n",
    "                        handle_unknown='value',  \n",
    "                        handle_missing='value').fit(train_df,train_df['label_income'])"
   ]
  },
  {
   "cell_type": "code",
   "execution_count": 110,
   "metadata": {},
   "outputs": [],
   "source": [
    "train_df = encoder.transform(train_df)"
   ]
  },
  {
   "cell_type": "code",
   "execution_count": 120,
   "metadata": {},
   "outputs": [
    {
     "data": {
      "text/html": [
       "<div>\n",
       "<style scoped>\n",
       "    .dataframe tbody tr th:only-of-type {\n",
       "        vertical-align: middle;\n",
       "    }\n",
       "\n",
       "    .dataframe tbody tr th {\n",
       "        vertical-align: top;\n",
       "    }\n",
       "\n",
       "    .dataframe thead th {\n",
       "        text-align: right;\n",
       "    }\n",
       "</style>\n",
       "<table border=\"1\" class=\"dataframe\">\n",
       "  <thead>\n",
       "    <tr style=\"text-align: right;\">\n",
       "      <th></th>\n",
       "      <th>class_worker</th>\n",
       "      <th>class_worker_target_code2</th>\n",
       "      <th>class_worker_target_code</th>\n",
       "    </tr>\n",
       "  </thead>\n",
       "  <tbody>\n",
       "    <tr>\n",
       "      <th>0</th>\n",
       "      <td>Not in universe</td>\n",
       "      <td>0.009018</td>\n",
       "      <td>0.009018</td>\n",
       "    </tr>\n",
       "    <tr>\n",
       "      <th>1</th>\n",
       "      <td>Self-employed-not incorporated</td>\n",
       "      <td>0.129070</td>\n",
       "      <td>0.129070</td>\n",
       "    </tr>\n",
       "    <tr>\n",
       "      <th>2</th>\n",
       "      <td>Not in universe</td>\n",
       "      <td>0.009018</td>\n",
       "      <td>0.009018</td>\n",
       "    </tr>\n",
       "    <tr>\n",
       "      <th>3</th>\n",
       "      <td>Not in universe</td>\n",
       "      <td>0.009018</td>\n",
       "      <td>0.009018</td>\n",
       "    </tr>\n",
       "    <tr>\n",
       "      <th>4</th>\n",
       "      <td>Not in universe</td>\n",
       "      <td>0.009018</td>\n",
       "      <td>0.009018</td>\n",
       "    </tr>\n",
       "  </tbody>\n",
       "</table>\n",
       "</div>"
      ],
      "text/plain": [
       "                      class_worker  class_worker_target_code2  \\\n",
       "0                  Not in universe                   0.009018   \n",
       "1   Self-employed-not incorporated                   0.129070   \n",
       "2                  Not in universe                   0.009018   \n",
       "3                  Not in universe                   0.009018   \n",
       "4                  Not in universe                   0.009018   \n",
       "\n",
       "   class_worker_target_code  \n",
       "0                  0.009018  \n",
       "1                  0.129070  \n",
       "2                  0.009018  \n",
       "3                  0.009018  \n",
       "4                  0.009018  "
      ]
     },
     "execution_count": 120,
     "metadata": {},
     "output_type": "execute_result"
    }
   ],
   "source": [
    "train_df[['class_worker','class_worker_target_code2','class_worker_target_code']].head()"
   ]
  },
  {
   "cell_type": "code",
   "execution_count": 121,
   "metadata": {},
   "outputs": [],
   "source": [
    "import category_encoders as ce"
   ]
  },
  {
   "cell_type": "code",
   "execution_count": 122,
   "metadata": {},
   "outputs": [],
   "source": [
    "train_df['class_worker_binary_code'] = train_df['class_worker']"
   ]
  },
  {
   "cell_type": "code",
   "execution_count": 123,
   "metadata": {},
   "outputs": [],
   "source": [
    "encoder = ce.BinaryEncoder(cols=['class_worker_binary_code']).fit(train_df)"
   ]
  },
  {
   "cell_type": "code",
   "execution_count": 124,
   "metadata": {},
   "outputs": [],
   "source": [
    "train_df = encoder.transform(train_df)"
   ]
  },
  {
   "cell_type": "code",
   "execution_count": 129,
   "metadata": {},
   "outputs": [
    {
     "data": {
      "text/html": [
       "<div>\n",
       "<style scoped>\n",
       "    .dataframe tbody tr th:only-of-type {\n",
       "        vertical-align: middle;\n",
       "    }\n",
       "\n",
       "    .dataframe tbody tr th {\n",
       "        vertical-align: top;\n",
       "    }\n",
       "\n",
       "    .dataframe thead th {\n",
       "        text-align: right;\n",
       "    }\n",
       "</style>\n",
       "<table border=\"1\" class=\"dataframe\">\n",
       "  <thead>\n",
       "    <tr style=\"text-align: right;\">\n",
       "      <th></th>\n",
       "      <th>class_worker_binary_code_0</th>\n",
       "      <th>class_worker_binary_code_1</th>\n",
       "      <th>class_worker_binary_code_2</th>\n",
       "      <th>class_worker_binary_code_3</th>\n",
       "    </tr>\n",
       "  </thead>\n",
       "  <tbody>\n",
       "    <tr>\n",
       "      <th>0</th>\n",
       "      <td>0</td>\n",
       "      <td>0</td>\n",
       "      <td>0</td>\n",
       "      <td>1</td>\n",
       "    </tr>\n",
       "    <tr>\n",
       "      <th>1</th>\n",
       "      <td>0</td>\n",
       "      <td>0</td>\n",
       "      <td>1</td>\n",
       "      <td>0</td>\n",
       "    </tr>\n",
       "    <tr>\n",
       "      <th>2</th>\n",
       "      <td>0</td>\n",
       "      <td>0</td>\n",
       "      <td>0</td>\n",
       "      <td>1</td>\n",
       "    </tr>\n",
       "    <tr>\n",
       "      <th>3</th>\n",
       "      <td>0</td>\n",
       "      <td>0</td>\n",
       "      <td>0</td>\n",
       "      <td>1</td>\n",
       "    </tr>\n",
       "    <tr>\n",
       "      <th>4</th>\n",
       "      <td>0</td>\n",
       "      <td>0</td>\n",
       "      <td>0</td>\n",
       "      <td>1</td>\n",
       "    </tr>\n",
       "    <tr>\n",
       "      <th>...</th>\n",
       "      <td>...</td>\n",
       "      <td>...</td>\n",
       "      <td>...</td>\n",
       "      <td>...</td>\n",
       "    </tr>\n",
       "    <tr>\n",
       "      <th>199518</th>\n",
       "      <td>0</td>\n",
       "      <td>0</td>\n",
       "      <td>0</td>\n",
       "      <td>1</td>\n",
       "    </tr>\n",
       "    <tr>\n",
       "      <th>199519</th>\n",
       "      <td>0</td>\n",
       "      <td>1</td>\n",
       "      <td>1</td>\n",
       "      <td>0</td>\n",
       "    </tr>\n",
       "    <tr>\n",
       "      <th>199520</th>\n",
       "      <td>0</td>\n",
       "      <td>0</td>\n",
       "      <td>0</td>\n",
       "      <td>1</td>\n",
       "    </tr>\n",
       "    <tr>\n",
       "      <th>199521</th>\n",
       "      <td>0</td>\n",
       "      <td>0</td>\n",
       "      <td>0</td>\n",
       "      <td>1</td>\n",
       "    </tr>\n",
       "    <tr>\n",
       "      <th>199522</th>\n",
       "      <td>0</td>\n",
       "      <td>0</td>\n",
       "      <td>1</td>\n",
       "      <td>1</td>\n",
       "    </tr>\n",
       "  </tbody>\n",
       "</table>\n",
       "<p>199523 rows × 4 columns</p>\n",
       "</div>"
      ],
      "text/plain": [
       "        class_worker_binary_code_0  class_worker_binary_code_1  \\\n",
       "0                                0                           0   \n",
       "1                                0                           0   \n",
       "2                                0                           0   \n",
       "3                                0                           0   \n",
       "4                                0                           0   \n",
       "...                            ...                         ...   \n",
       "199518                           0                           0   \n",
       "199519                           0                           1   \n",
       "199520                           0                           0   \n",
       "199521                           0                           0   \n",
       "199522                           0                           0   \n",
       "\n",
       "        class_worker_binary_code_2  class_worker_binary_code_3  \n",
       "0                                0                           1  \n",
       "1                                1                           0  \n",
       "2                                0                           1  \n",
       "3                                0                           1  \n",
       "4                                0                           1  \n",
       "...                            ...                         ...  \n",
       "199518                           0                           1  \n",
       "199519                           1                           0  \n",
       "199520                           0                           1  \n",
       "199521                           0                           1  \n",
       "199522                           1                           1  \n",
       "\n",
       "[199523 rows x 4 columns]"
      ]
     },
     "execution_count": 129,
     "metadata": {},
     "output_type": "execute_result"
    }
   ],
   "source": [
    "train_df[['class_worker_binary_code_0','class_worker_binary_code_1','class_worker_binary_code_2','class_worker_binary_code_3']]\n"
   ]
  },
  {
   "cell_type": "markdown",
   "metadata": {},
   "source": [
    "### CatBoost Encoding "
   ]
  },
  {
   "cell_type": "code",
   "execution_count": 130,
   "metadata": {},
   "outputs": [],
   "source": [
    "import category_encoders as encoders"
   ]
  },
  {
   "cell_type": "code",
   "execution_count": 134,
   "metadata": {},
   "outputs": [],
   "source": [
    "train_df['class_worker_catboost_code'] = train_df['class_worker']\n",
    "enc = encoders.CatBoostEncoder()"
   ]
  },
  {
   "cell_type": "code",
   "execution_count": 135,
   "metadata": {},
   "outputs": [],
   "source": [
    "\n",
    "train_df['class_worker_catboost_code'] = enc.fit_transform(train_df['class_worker_catboost_code'], train_df['label_income'])"
   ]
  },
  {
   "cell_type": "code",
   "execution_count": 137,
   "metadata": {},
   "outputs": [
    {
     "data": {
      "text/plain": [
       "0    0.062058\n",
       "1    0.062058\n",
       "2    0.031029\n",
       "3    0.020686\n",
       "4    0.015515\n",
       "Name: class_worker_catboost_code, dtype: float64"
      ]
     },
     "execution_count": 137,
     "metadata": {},
     "output_type": "execute_result"
    }
   ],
   "source": [
    "train_df['class_worker_catboost_code'].head()"
   ]
  },
  {
   "cell_type": "markdown",
   "metadata": {},
   "source": [
    "### WOE Encoding "
   ]
  },
  {
   "cell_type": "code",
   "execution_count": 138,
   "metadata": {},
   "outputs": [],
   "source": [
    "enc = encoders.WOEEncoder()"
   ]
  },
  {
   "cell_type": "code",
   "execution_count": 139,
   "metadata": {},
   "outputs": [],
   "source": [
    "train_df['class_worker_WOE_code'] = train_df['class_worker']\n",
    "enc = encoders.WOEEncoder()"
   ]
  },
  {
   "cell_type": "code",
   "execution_count": 140,
   "metadata": {},
   "outputs": [],
   "source": [
    "train_df['class_worker_WOE_code'] = enc.fit_transform(train_df['class_worker_WOE_code'], train_df['label_income'])"
   ]
  },
  {
   "cell_type": "code",
   "execution_count": 141,
   "metadata": {},
   "outputs": [
    {
     "data": {
      "text/plain": [
       "0   -1.982921\n",
       "1    0.807046\n",
       "2   -1.982921\n",
       "3   -1.982921\n",
       "4   -1.982921\n",
       "Name: class_worker_WOE_code, dtype: float64"
      ]
     },
     "execution_count": 141,
     "metadata": {},
     "output_type": "execute_result"
    }
   ],
   "source": [
    "train_df['class_worker_WOE_code'].head()"
   ]
  },
  {
   "cell_type": "markdown",
   "metadata": {},
   "source": [
    "### Helmert Encoding "
   ]
  },
  {
   "cell_type": "code",
   "execution_count": 142,
   "metadata": {},
   "outputs": [],
   "source": [
    "from category_encoders.helmert import HelmertEncoder"
   ]
  },
  {
   "cell_type": "code",
   "execution_count": 144,
   "metadata": {},
   "outputs": [],
   "source": [
    "train_df['class_worker_helm_code'] = train_df['class_worker']"
   ]
  },
  {
   "cell_type": "code",
   "execution_count": 143,
   "metadata": {},
   "outputs": [],
   "source": [
    "enc = HelmertEncoder()"
   ]
  },
  {
   "cell_type": "code",
   "execution_count": 145,
   "metadata": {},
   "outputs": [
    {
     "name": "stderr",
     "output_type": "stream",
     "text": [
      "/Library/Python/anaconda3/envs/MRC_QA/lib/python3.6/site-packages/category_encoders/base_contrast_encoder.py:127: FutureWarning: Intercept column might not be added anymore in future releases (c.f. issue #370)\n",
      "  category=FutureWarning)\n"
     ]
    },
    {
     "data": {
      "text/html": [
       "<div>\n",
       "<style scoped>\n",
       "    .dataframe tbody tr th:only-of-type {\n",
       "        vertical-align: middle;\n",
       "    }\n",
       "\n",
       "    .dataframe tbody tr th {\n",
       "        vertical-align: top;\n",
       "    }\n",
       "\n",
       "    .dataframe thead th {\n",
       "        text-align: right;\n",
       "    }\n",
       "</style>\n",
       "<table border=\"1\" class=\"dataframe\">\n",
       "  <thead>\n",
       "    <tr style=\"text-align: right;\">\n",
       "      <th></th>\n",
       "      <th>intercept</th>\n",
       "      <th>class_worker_helm_code_0</th>\n",
       "      <th>class_worker_helm_code_1</th>\n",
       "      <th>class_worker_helm_code_2</th>\n",
       "      <th>class_worker_helm_code_3</th>\n",
       "      <th>class_worker_helm_code_4</th>\n",
       "      <th>class_worker_helm_code_5</th>\n",
       "      <th>class_worker_helm_code_6</th>\n",
       "      <th>class_worker_helm_code_7</th>\n",
       "    </tr>\n",
       "  </thead>\n",
       "  <tbody>\n",
       "    <tr>\n",
       "      <th>0</th>\n",
       "      <td>1</td>\n",
       "      <td>-1.0</td>\n",
       "      <td>-1.0</td>\n",
       "      <td>-1.0</td>\n",
       "      <td>-1.0</td>\n",
       "      <td>-1.0</td>\n",
       "      <td>-1.0</td>\n",
       "      <td>-1.0</td>\n",
       "      <td>-1.0</td>\n",
       "    </tr>\n",
       "    <tr>\n",
       "      <th>1</th>\n",
       "      <td>1</td>\n",
       "      <td>1.0</td>\n",
       "      <td>-1.0</td>\n",
       "      <td>-1.0</td>\n",
       "      <td>-1.0</td>\n",
       "      <td>-1.0</td>\n",
       "      <td>-1.0</td>\n",
       "      <td>-1.0</td>\n",
       "      <td>-1.0</td>\n",
       "    </tr>\n",
       "    <tr>\n",
       "      <th>2</th>\n",
       "      <td>1</td>\n",
       "      <td>-1.0</td>\n",
       "      <td>-1.0</td>\n",
       "      <td>-1.0</td>\n",
       "      <td>-1.0</td>\n",
       "      <td>-1.0</td>\n",
       "      <td>-1.0</td>\n",
       "      <td>-1.0</td>\n",
       "      <td>-1.0</td>\n",
       "    </tr>\n",
       "    <tr>\n",
       "      <th>3</th>\n",
       "      <td>1</td>\n",
       "      <td>-1.0</td>\n",
       "      <td>-1.0</td>\n",
       "      <td>-1.0</td>\n",
       "      <td>-1.0</td>\n",
       "      <td>-1.0</td>\n",
       "      <td>-1.0</td>\n",
       "      <td>-1.0</td>\n",
       "      <td>-1.0</td>\n",
       "    </tr>\n",
       "    <tr>\n",
       "      <th>4</th>\n",
       "      <td>1</td>\n",
       "      <td>-1.0</td>\n",
       "      <td>-1.0</td>\n",
       "      <td>-1.0</td>\n",
       "      <td>-1.0</td>\n",
       "      <td>-1.0</td>\n",
       "      <td>-1.0</td>\n",
       "      <td>-1.0</td>\n",
       "      <td>-1.0</td>\n",
       "    </tr>\n",
       "    <tr>\n",
       "      <th>...</th>\n",
       "      <td>...</td>\n",
       "      <td>...</td>\n",
       "      <td>...</td>\n",
       "      <td>...</td>\n",
       "      <td>...</td>\n",
       "      <td>...</td>\n",
       "      <td>...</td>\n",
       "      <td>...</td>\n",
       "      <td>...</td>\n",
       "    </tr>\n",
       "    <tr>\n",
       "      <th>199518</th>\n",
       "      <td>1</td>\n",
       "      <td>-1.0</td>\n",
       "      <td>-1.0</td>\n",
       "      <td>-1.0</td>\n",
       "      <td>-1.0</td>\n",
       "      <td>-1.0</td>\n",
       "      <td>-1.0</td>\n",
       "      <td>-1.0</td>\n",
       "      <td>-1.0</td>\n",
       "    </tr>\n",
       "    <tr>\n",
       "      <th>199519</th>\n",
       "      <td>1</td>\n",
       "      <td>0.0</td>\n",
       "      <td>0.0</td>\n",
       "      <td>0.0</td>\n",
       "      <td>0.0</td>\n",
       "      <td>5.0</td>\n",
       "      <td>-1.0</td>\n",
       "      <td>-1.0</td>\n",
       "      <td>-1.0</td>\n",
       "    </tr>\n",
       "    <tr>\n",
       "      <th>199520</th>\n",
       "      <td>1</td>\n",
       "      <td>-1.0</td>\n",
       "      <td>-1.0</td>\n",
       "      <td>-1.0</td>\n",
       "      <td>-1.0</td>\n",
       "      <td>-1.0</td>\n",
       "      <td>-1.0</td>\n",
       "      <td>-1.0</td>\n",
       "      <td>-1.0</td>\n",
       "    </tr>\n",
       "    <tr>\n",
       "      <th>199521</th>\n",
       "      <td>1</td>\n",
       "      <td>-1.0</td>\n",
       "      <td>-1.0</td>\n",
       "      <td>-1.0</td>\n",
       "      <td>-1.0</td>\n",
       "      <td>-1.0</td>\n",
       "      <td>-1.0</td>\n",
       "      <td>-1.0</td>\n",
       "      <td>-1.0</td>\n",
       "    </tr>\n",
       "    <tr>\n",
       "      <th>199522</th>\n",
       "      <td>1</td>\n",
       "      <td>0.0</td>\n",
       "      <td>2.0</td>\n",
       "      <td>-1.0</td>\n",
       "      <td>-1.0</td>\n",
       "      <td>-1.0</td>\n",
       "      <td>-1.0</td>\n",
       "      <td>-1.0</td>\n",
       "      <td>-1.0</td>\n",
       "    </tr>\n",
       "  </tbody>\n",
       "</table>\n",
       "<p>199523 rows × 9 columns</p>\n",
       "</div>"
      ],
      "text/plain": [
       "        intercept  class_worker_helm_code_0  class_worker_helm_code_1  \\\n",
       "0               1                      -1.0                      -1.0   \n",
       "1               1                       1.0                      -1.0   \n",
       "2               1                      -1.0                      -1.0   \n",
       "3               1                      -1.0                      -1.0   \n",
       "4               1                      -1.0                      -1.0   \n",
       "...           ...                       ...                       ...   \n",
       "199518          1                      -1.0                      -1.0   \n",
       "199519          1                       0.0                       0.0   \n",
       "199520          1                      -1.0                      -1.0   \n",
       "199521          1                      -1.0                      -1.0   \n",
       "199522          1                       0.0                       2.0   \n",
       "\n",
       "        class_worker_helm_code_2  class_worker_helm_code_3  \\\n",
       "0                           -1.0                      -1.0   \n",
       "1                           -1.0                      -1.0   \n",
       "2                           -1.0                      -1.0   \n",
       "3                           -1.0                      -1.0   \n",
       "4                           -1.0                      -1.0   \n",
       "...                          ...                       ...   \n",
       "199518                      -1.0                      -1.0   \n",
       "199519                       0.0                       0.0   \n",
       "199520                      -1.0                      -1.0   \n",
       "199521                      -1.0                      -1.0   \n",
       "199522                      -1.0                      -1.0   \n",
       "\n",
       "        class_worker_helm_code_4  class_worker_helm_code_5  \\\n",
       "0                           -1.0                      -1.0   \n",
       "1                           -1.0                      -1.0   \n",
       "2                           -1.0                      -1.0   \n",
       "3                           -1.0                      -1.0   \n",
       "4                           -1.0                      -1.0   \n",
       "...                          ...                       ...   \n",
       "199518                      -1.0                      -1.0   \n",
       "199519                       5.0                      -1.0   \n",
       "199520                      -1.0                      -1.0   \n",
       "199521                      -1.0                      -1.0   \n",
       "199522                      -1.0                      -1.0   \n",
       "\n",
       "        class_worker_helm_code_6  class_worker_helm_code_7  \n",
       "0                           -1.0                      -1.0  \n",
       "1                           -1.0                      -1.0  \n",
       "2                           -1.0                      -1.0  \n",
       "3                           -1.0                      -1.0  \n",
       "4                           -1.0                      -1.0  \n",
       "...                          ...                       ...  \n",
       "199518                      -1.0                      -1.0  \n",
       "199519                      -1.0                      -1.0  \n",
       "199520                      -1.0                      -1.0  \n",
       "199521                      -1.0                      -1.0  \n",
       "199522                      -1.0                      -1.0  \n",
       "\n",
       "[199523 rows x 9 columns]"
      ]
     },
     "execution_count": 145,
     "metadata": {},
     "output_type": "execute_result"
    }
   ],
   "source": [
    "enc.fit_transform(train_df['class_worker_helm_code'],train_df['label_income'])"
   ]
  },
  {
   "cell_type": "markdown",
   "metadata": {},
   "source": [
    "### MEstimate Encoding "
   ]
  },
  {
   "cell_type": "code",
   "execution_count": 146,
   "metadata": {},
   "outputs": [],
   "source": [
    "from category_encoders.m_estimate import MEstimateEncoder"
   ]
  },
  {
   "cell_type": "code",
   "execution_count": 147,
   "metadata": {},
   "outputs": [],
   "source": [
    "train_df['class_worker_mest_code'] = train_df['class_worker']"
   ]
  },
  {
   "cell_type": "code",
   "execution_count": 148,
   "metadata": {},
   "outputs": [],
   "source": [
    "enc = MEstimateEncoder()"
   ]
  },
  {
   "cell_type": "code",
   "execution_count": 149,
   "metadata": {},
   "outputs": [
    {
     "data": {
      "text/html": [
       "<div>\n",
       "<style scoped>\n",
       "    .dataframe tbody tr th:only-of-type {\n",
       "        vertical-align: middle;\n",
       "    }\n",
       "\n",
       "    .dataframe tbody tr th {\n",
       "        vertical-align: top;\n",
       "    }\n",
       "\n",
       "    .dataframe thead th {\n",
       "        text-align: right;\n",
       "    }\n",
       "</style>\n",
       "<table border=\"1\" class=\"dataframe\">\n",
       "  <thead>\n",
       "    <tr style=\"text-align: right;\">\n",
       "      <th></th>\n",
       "      <th>class_worker_mest_code</th>\n",
       "    </tr>\n",
       "  </thead>\n",
       "  <tbody>\n",
       "    <tr>\n",
       "      <th>0</th>\n",
       "      <td>0.009018</td>\n",
       "    </tr>\n",
       "    <tr>\n",
       "      <th>1</th>\n",
       "      <td>0.129063</td>\n",
       "    </tr>\n",
       "    <tr>\n",
       "      <th>2</th>\n",
       "      <td>0.009018</td>\n",
       "    </tr>\n",
       "    <tr>\n",
       "      <th>3</th>\n",
       "      <td>0.009018</td>\n",
       "    </tr>\n",
       "    <tr>\n",
       "      <th>4</th>\n",
       "      <td>0.009018</td>\n",
       "    </tr>\n",
       "    <tr>\n",
       "      <th>...</th>\n",
       "      <td>...</td>\n",
       "    </tr>\n",
       "    <tr>\n",
       "      <th>199518</th>\n",
       "      <td>0.009018</td>\n",
       "    </tr>\n",
       "    <tr>\n",
       "      <th>199519</th>\n",
       "      <td>0.347233</td>\n",
       "    </tr>\n",
       "    <tr>\n",
       "      <th>199520</th>\n",
       "      <td>0.009018</td>\n",
       "    </tr>\n",
       "    <tr>\n",
       "      <th>199521</th>\n",
       "      <td>0.009018</td>\n",
       "    </tr>\n",
       "    <tr>\n",
       "      <th>199522</th>\n",
       "      <td>0.101654</td>\n",
       "    </tr>\n",
       "  </tbody>\n",
       "</table>\n",
       "<p>199523 rows × 1 columns</p>\n",
       "</div>"
      ],
      "text/plain": [
       "        class_worker_mest_code\n",
       "0                     0.009018\n",
       "1                     0.129063\n",
       "2                     0.009018\n",
       "3                     0.009018\n",
       "4                     0.009018\n",
       "...                        ...\n",
       "199518                0.009018\n",
       "199519                0.347233\n",
       "199520                0.009018\n",
       "199521                0.009018\n",
       "199522                0.101654\n",
       "\n",
       "[199523 rows x 1 columns]"
      ]
     },
     "execution_count": 149,
     "metadata": {},
     "output_type": "execute_result"
    }
   ],
   "source": [
    "enc.fit_transform(train_df['class_worker_mest_code'],train_df['label_income'])"
   ]
  },
  {
   "cell_type": "code",
   "execution_count": null,
   "metadata": {},
   "outputs": [],
   "source": [
    "### Sum Encoding "
   ]
  },
  {
   "cell_type": "code",
   "execution_count": 150,
   "metadata": {},
   "outputs": [],
   "source": [
    "from category_encoders.sum_coding import SumEncoder"
   ]
  },
  {
   "cell_type": "code",
   "execution_count": 151,
   "metadata": {},
   "outputs": [],
   "source": [
    "train_df['class_worker_sum_code'] = train_df['class_worker']"
   ]
  },
  {
   "cell_type": "code",
   "execution_count": 152,
   "metadata": {},
   "outputs": [],
   "source": [
    "enc = MEstimateEncoder()"
   ]
  },
  {
   "cell_type": "code",
   "execution_count": 153,
   "metadata": {},
   "outputs": [
    {
     "data": {
      "text/html": [
       "<div>\n",
       "<style scoped>\n",
       "    .dataframe tbody tr th:only-of-type {\n",
       "        vertical-align: middle;\n",
       "    }\n",
       "\n",
       "    .dataframe tbody tr th {\n",
       "        vertical-align: top;\n",
       "    }\n",
       "\n",
       "    .dataframe thead th {\n",
       "        text-align: right;\n",
       "    }\n",
       "</style>\n",
       "<table border=\"1\" class=\"dataframe\">\n",
       "  <thead>\n",
       "    <tr style=\"text-align: right;\">\n",
       "      <th></th>\n",
       "      <th>class_worker_sum_code</th>\n",
       "    </tr>\n",
       "  </thead>\n",
       "  <tbody>\n",
       "    <tr>\n",
       "      <th>0</th>\n",
       "      <td>0.009018</td>\n",
       "    </tr>\n",
       "    <tr>\n",
       "      <th>1</th>\n",
       "      <td>0.129063</td>\n",
       "    </tr>\n",
       "    <tr>\n",
       "      <th>2</th>\n",
       "      <td>0.009018</td>\n",
       "    </tr>\n",
       "    <tr>\n",
       "      <th>3</th>\n",
       "      <td>0.009018</td>\n",
       "    </tr>\n",
       "    <tr>\n",
       "      <th>4</th>\n",
       "      <td>0.009018</td>\n",
       "    </tr>\n",
       "    <tr>\n",
       "      <th>...</th>\n",
       "      <td>...</td>\n",
       "    </tr>\n",
       "    <tr>\n",
       "      <th>199518</th>\n",
       "      <td>0.009018</td>\n",
       "    </tr>\n",
       "    <tr>\n",
       "      <th>199519</th>\n",
       "      <td>0.347233</td>\n",
       "    </tr>\n",
       "    <tr>\n",
       "      <th>199520</th>\n",
       "      <td>0.009018</td>\n",
       "    </tr>\n",
       "    <tr>\n",
       "      <th>199521</th>\n",
       "      <td>0.009018</td>\n",
       "    </tr>\n",
       "    <tr>\n",
       "      <th>199522</th>\n",
       "      <td>0.101654</td>\n",
       "    </tr>\n",
       "  </tbody>\n",
       "</table>\n",
       "<p>199523 rows × 1 columns</p>\n",
       "</div>"
      ],
      "text/plain": [
       "        class_worker_sum_code\n",
       "0                    0.009018\n",
       "1                    0.129063\n",
       "2                    0.009018\n",
       "3                    0.009018\n",
       "4                    0.009018\n",
       "...                       ...\n",
       "199518               0.009018\n",
       "199519               0.347233\n",
       "199520               0.009018\n",
       "199521               0.009018\n",
       "199522               0.101654\n",
       "\n",
       "[199523 rows x 1 columns]"
      ]
     },
     "execution_count": 153,
     "metadata": {},
     "output_type": "execute_result"
    }
   ],
   "source": [
    "enc.fit_transform(train_df['class_worker_sum_code'],train_df['label_income'])"
   ]
  },
  {
   "cell_type": "markdown",
   "metadata": {},
   "source": [
    "### LeaveOneOut Encoding "
   ]
  },
  {
   "cell_type": "code",
   "execution_count": 154,
   "metadata": {},
   "outputs": [],
   "source": [
    "from category_encoders.leave_one_out import LeaveOneOutEncoder"
   ]
  },
  {
   "cell_type": "code",
   "execution_count": 155,
   "metadata": {},
   "outputs": [],
   "source": [
    "train_df['class_worker_leaveone_code'] = train_df['class_worker']"
   ]
  },
  {
   "cell_type": "code",
   "execution_count": 156,
   "metadata": {},
   "outputs": [],
   "source": [
    "enc = LeaveOneOutEncoder()"
   ]
  },
  {
   "cell_type": "code",
   "execution_count": 157,
   "metadata": {},
   "outputs": [
    {
     "data": {
      "text/html": [
       "<div>\n",
       "<style scoped>\n",
       "    .dataframe tbody tr th:only-of-type {\n",
       "        vertical-align: middle;\n",
       "    }\n",
       "\n",
       "    .dataframe tbody tr th {\n",
       "        vertical-align: top;\n",
       "    }\n",
       "\n",
       "    .dataframe thead th {\n",
       "        text-align: right;\n",
       "    }\n",
       "</style>\n",
       "<table border=\"1\" class=\"dataframe\">\n",
       "  <thead>\n",
       "    <tr style=\"text-align: right;\">\n",
       "      <th></th>\n",
       "      <th>class_worker_leaveone_code</th>\n",
       "    </tr>\n",
       "  </thead>\n",
       "  <tbody>\n",
       "    <tr>\n",
       "      <th>0</th>\n",
       "      <td>0.009018</td>\n",
       "    </tr>\n",
       "    <tr>\n",
       "      <th>1</th>\n",
       "      <td>0.129086</td>\n",
       "    </tr>\n",
       "    <tr>\n",
       "      <th>2</th>\n",
       "      <td>0.009018</td>\n",
       "    </tr>\n",
       "    <tr>\n",
       "      <th>3</th>\n",
       "      <td>0.009018</td>\n",
       "    </tr>\n",
       "    <tr>\n",
       "      <th>4</th>\n",
       "      <td>0.009018</td>\n",
       "    </tr>\n",
       "    <tr>\n",
       "      <th>...</th>\n",
       "      <td>...</td>\n",
       "    </tr>\n",
       "    <tr>\n",
       "      <th>199518</th>\n",
       "      <td>0.009018</td>\n",
       "    </tr>\n",
       "    <tr>\n",
       "      <th>199519</th>\n",
       "      <td>0.347426</td>\n",
       "    </tr>\n",
       "    <tr>\n",
       "      <th>199520</th>\n",
       "      <td>0.009018</td>\n",
       "    </tr>\n",
       "    <tr>\n",
       "      <th>199521</th>\n",
       "      <td>0.009018</td>\n",
       "    </tr>\n",
       "    <tr>\n",
       "      <th>199522</th>\n",
       "      <td>0.101656</td>\n",
       "    </tr>\n",
       "  </tbody>\n",
       "</table>\n",
       "<p>199523 rows × 1 columns</p>\n",
       "</div>"
      ],
      "text/plain": [
       "        class_worker_leaveone_code\n",
       "0                         0.009018\n",
       "1                         0.129086\n",
       "2                         0.009018\n",
       "3                         0.009018\n",
       "4                         0.009018\n",
       "...                            ...\n",
       "199518                    0.009018\n",
       "199519                    0.347426\n",
       "199520                    0.009018\n",
       "199521                    0.009018\n",
       "199522                    0.101656\n",
       "\n",
       "[199523 rows x 1 columns]"
      ]
     },
     "execution_count": 157,
     "metadata": {},
     "output_type": "execute_result"
    }
   ],
   "source": [
    "enc.fit_transform(train_df['class_worker_leaveone_code'],train_df['label_income'])"
   ]
  },
  {
   "cell_type": "markdown",
   "metadata": {},
   "source": [
    "### BetaTarget Encoding "
   ]
  },
  {
   "cell_type": "code",
   "execution_count": 161,
   "metadata": {},
   "outputs": [],
   "source": [
    "\n",
    "class BetaTargetEncoder(object):\n",
    "    def __init__(self, col):\n",
    "        self.group = col\n",
    "        self.stats = None\n",
    "    # get counts from df\n",
    "    def fit(self, df, target_col):\n",
    "        # 先验均值\n",
    "        self.prior_mean = np.mean(df[target_col]) \n",
    "        stats           = df[[target_col, self.group]].groupby(self.group)\n",
    "        # count和sum\n",
    "        stats           = stats.agg(['sum', 'count'])[target_col]    \n",
    "        stats.rename(columns={'sum': 'n', 'count': 'N'}, inplace=True)\n",
    "        stats.reset_index(level=0, inplace=True)           \n",
    "        self.stats      = stats\n",
    "        \n",
    "    # extract posterior statistics\n",
    "    def transform(self, df, stat_type, N_min=1):\n",
    "        \n",
    "        df_stats = pd.merge(df[[self.group]], self.stats, how='left')\n",
    "        n        = df_stats['n'].copy()\n",
    "        N        = df_stats['N'].copy()\n",
    "        \n",
    "        # fill in missing\n",
    "        nan_indexs    = np.isnan(n)\n",
    "        n[nan_indexs] = self.prior_mean\n",
    "        N[nan_indexs] = 1.0\n",
    "        \n",
    "        # prior parameters\n",
    "        N_prior     = np.maximum(N_min-N, 0)\n",
    "        alpha_prior = self.prior_mean*N_prior\n",
    "        beta_prior  = (1-self.prior_mean)*N_prior\n",
    "        \n",
    "        # posterior parameters\n",
    "        alpha       =  alpha_prior + n\n",
    "        beta        =  beta_prior  + N-n\n",
    "        \n",
    "        # calculate statistics\n",
    "        if stat_type=='mean':\n",
    "            num = alpha\n",
    "            dem = alpha+beta\n",
    "                    \n",
    "        elif stat_type=='mode':\n",
    "            num = alpha-1\n",
    "            dem = alpha+beta-2\n",
    "            \n",
    "        elif stat_type=='median':\n",
    "            num = alpha-1/3\n",
    "            dem = alpha+beta-2/3\n",
    "        \n",
    "        elif stat_type=='var':\n",
    "            num = alpha*beta\n",
    "            dem = (alpha+beta)**2*(alpha+beta+1)\n",
    "                    \n",
    "        elif stat_type=='skewness':\n",
    "            num = 2*(beta-alpha)*np.sqrt(alpha+beta+1)\n",
    "            dem = (alpha+beta+2)*np.sqrt(alpha*beta)\n",
    " \n",
    "        elif stat_type=='kurtosis':\n",
    "            num = 6*(alpha-beta)**2*(alpha+beta+1) - alpha*beta*(alpha+beta+2)\n",
    "            dem = alpha*beta*(alpha+beta+2)*(alpha+beta+3)\n",
    "            \n",
    "        # replace missing\n",
    "        value = num/dem\n",
    "        value[np.isnan(value)] = np.nanmedian(value)\n",
    "        return value\n"
   ]
  },
  {
   "cell_type": "code",
   "execution_count": 162,
   "metadata": {},
   "outputs": [],
   "source": [
    "enc = BetaTargetEncoder(col='class_worker')"
   ]
  },
  {
   "cell_type": "code",
   "execution_count": 163,
   "metadata": {},
   "outputs": [],
   "source": [
    "enc.fit(train_df,'label_income')"
   ]
  },
  {
   "cell_type": "code",
   "execution_count": 164,
   "metadata": {},
   "outputs": [
    {
     "data": {
      "text/plain": [
       "0         0.009018\n",
       "1         0.129070\n",
       "2         0.009018\n",
       "3         0.009018\n",
       "4         0.009018\n",
       "            ...   \n",
       "199518    0.009018\n",
       "199519    0.347320\n",
       "199520    0.009018\n",
       "199521    0.009018\n",
       "199522    0.101655\n",
       "Length: 199523, dtype: float64"
      ]
     },
     "execution_count": 164,
     "metadata": {},
     "output_type": "execute_result"
    }
   ],
   "source": [
    "enc.transform(train_df,'mean')"
   ]
  },
  {
   "cell_type": "code",
   "execution_count": 165,
   "metadata": {},
   "outputs": [
    {
     "data": {
      "text/plain": [
       "0         8.914653e-08\n",
       "1         1.330941e-05\n",
       "2         8.914653e-08\n",
       "3         8.914653e-08\n",
       "4         8.914653e-08\n",
       "              ...     \n",
       "199518    8.914653e-08\n",
       "199519    6.940871e-05\n",
       "199520    8.914653e-08\n",
       "199521    8.914653e-08\n",
       "199522    1.267839e-06\n",
       "Length: 199523, dtype: float64"
      ]
     },
     "execution_count": 165,
     "metadata": {},
     "output_type": "execute_result"
    }
   ],
   "source": [
    "enc.transform(train_df,'var')"
   ]
  },
  {
   "cell_type": "code",
   "execution_count": 166,
   "metadata": {},
   "outputs": [
    {
     "data": {
      "text/plain": [
       "0         0.065615\n",
       "1         0.048147\n",
       "2         0.065615\n",
       "3         0.065615\n",
       "4         0.065615\n",
       "            ...   \n",
       "199518    0.065615\n",
       "199519    0.022438\n",
       "199520    0.065615\n",
       "199521    0.065615\n",
       "199522    0.019646\n",
       "Length: 199523, dtype: float64"
      ]
     },
     "execution_count": 166,
     "metadata": {},
     "output_type": "execute_result"
    }
   ],
   "source": [
    "enc.transform(train_df,'skewness')"
   ]
  },
  {
   "cell_type": "markdown",
   "metadata": {},
   "source": [
    "* 对于取值数量很少（<10）的类别型特征，相应的各取值下的样本数量也比较多，可以直接Onehot编码。\n",
    "* 对于取值数量比较多（10到几百），这时onehot从效率或者效果，都不及lightgbm梯度编码或catboost目标编码，而且直接使用也很方便。（需要注意的是，个人实践中这两种方法在很多取值的类别特征，还是比较容易过拟合。这时，类别值先做下经验的合并或者尝试剔除某些类别特征后，模型效果反而会更好）\n",
    "* 当几百上千的类别取值，可以先onehot后（高维稀疏），借助神经网络模型做低维稠密表示。\n",
    "* 对于无序的离散特征，实战中使用 OneHot, Hashing, LeaveOneOut, and Target encoding 方法效果较好，但是使用OneHot时要避免高基类别的特征以及基于决策树的模型\n",
    "* 对于回归问题而言，Target 与 LeaveOneOut 方法可能不会有比较好的效果。\n",
    "* LeaveOneOut、 WeightOfEvidence、 James-Stein、M-estimator 适合用来处理高基数特征。\n",
    "* Helmert、 Sum、 Backward Difference、 Polynomial 在机器学习问题里的效果往往不是很好(过拟合的原因)\n",
    "* 使用Beta Target Encoding相较于直接使用LightGBM建模的效果可以得到大幅提升"
   ]
  },
  {
   "cell_type": "code",
   "execution_count": null,
   "metadata": {},
   "outputs": [],
   "source": []
  }
 ],
 "metadata": {
  "kernelspec": {
   "display_name": "MRC_QA",
   "language": "python",
   "name": "mrc_qa"
  },
  "language_info": {
   "codemirror_mode": {
    "name": "ipython",
    "version": 3
   },
   "file_extension": ".py",
   "mimetype": "text/x-python",
   "name": "python",
   "nbconvert_exporter": "python",
   "pygments_lexer": "ipython3",
   "version": "3.6.7"
  }
 },
 "nbformat": 4,
 "nbformat_minor": 2
}
